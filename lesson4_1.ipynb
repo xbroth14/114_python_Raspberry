{
 "cells": [
  {
   "cell_type": "markdown",
   "id": "03f3e312",
   "metadata": {},
   "source": [
    "### Python\n",
    "-變數\n",
    "-list\n",
    "-dic\n"
   ]
  },
  {
   "cell_type": "code",
   "execution_count": 2,
   "id": "383022e1",
   "metadata": {},
   "outputs": [
    {
     "name": "stdout",
     "output_type": "stream",
     "text": [
      "建立變數\n",
      "變數內容: Python\n",
      "變數類型: <class 'str'>\n",
      "變數長度: 6\n"
     ]
    }
   ],
   "source": [
    "print(\"建立變數\")\n",
    "name = \"Python\"\n",
    "print(\"變數內容:\",name)\n",
    "print(\"變數類型:\",type(name))\n",
    "print(\"變數長度:\",len(name))"
   ]
  },
  {
   "cell_type": "code",
   "execution_count": 7,
   "id": "fa8fb39b",
   "metadata": {},
   "outputs": [
    {
     "name": "stdout",
     "output_type": "stream",
     "text": [
      "1|20|abc|xyz.\n"
     ]
    }
   ],
   "source": [
    "print(1,20,'abc',\"xyz\",sep= \"|\", end='.\\n')\n",
    "##print(引數值的呼叫,引數名稱的呼叫)"
   ]
  },
  {
   "cell_type": "markdown",
   "id": "0380e939",
   "metadata": {},
   "source": []
  }
 ],
 "metadata": {
  "kernelspec": {
   "display_name": "Python 3",
   "language": "python",
   "name": "python3"
  },
  "language_info": {
   "codemirror_mode": {
    "name": "ipython",
    "version": 3
   },
   "file_extension": ".py",
   "mimetype": "text/x-python",
   "name": "python",
   "nbconvert_exporter": "python",
   "pygments_lexer": "ipython3",
   "version": "3.11.9"
  }
 },
 "nbformat": 4,
 "nbformat_minor": 5
}
