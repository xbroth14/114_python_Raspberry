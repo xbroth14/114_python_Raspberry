{
 "cells": [
  {
   "cell_type": "markdown",
   "id": "03f3e312",
   "metadata": {},
   "source": [
    "### Python\n",
    "-變數\n",
    "-list\n",
    "-dic\n"
   ]
  },
  {
   "cell_type": "code",
   "execution_count": null,
   "id": "383022e1",
   "metadata": {},
   "outputs": [
    {
     "ename": "",
     "evalue": "",
     "output_type": "error",
     "traceback": [
      "\u001b[1;31mRunning cells with 'base (Python 3.13.5)' requires the ipykernel package.\n",
      "\u001b[1;31m<a href='command:jupyter.createPythonEnvAndSelectController'>Create a Python Environment</a> with the required packages.\n",
      "\u001b[1;31mOr install 'ipykernel' using the command: 'conda install -n base ipykernel --update-deps --force-reinstall'"
     ]
    }
   ],
   "source": [
    "print(\"建立變數\")\n",
    "name = \"Python\"\n",
    "print(\"變數內容:\",name)\n",
    "print(\"變數類型:\",type(name))\n",
    "print(\"變數長度:\",len(name))"
   ]
  },
  {
   "cell_type": "code",
   "execution_count": 1,
   "id": "fa8fb39b",
   "metadata": {},
   "outputs": [
    {
     "name": "stdout",
     "output_type": "stream",
     "text": [
      "1|20|abc|xyz.\n"
     ]
    }
   ],
   "source": [
    "print(1,20,'abc',\"xyz\",sep= \"|\", end='.\\n')\n",
    "##print(引數值的呼叫,引數名稱的呼叫)"
   ]
  },
  {
   "cell_type": "markdown",
   "id": "0380e939",
   "metadata": {},
   "source": []
  }
 ],
 "metadata": {
  "kernelspec": {
   "display_name": "base",
   "language": "python",
   "name": "python3"
  },
  "language_info": {
   "codemirror_mode": {
    "name": "ipython",
    "version": 3
   },
   "file_extension": ".py",
   "mimetype": "text/x-python",
   "name": "python",
   "nbconvert_exporter": "python",
   "pygments_lexer": "ipython3",
   "version": "3.13.5"
  }
 },
 "nbformat": 4,
 "nbformat_minor": 5
}
