{
 "cells": [
  {
   "cell_type": "code",
   "execution_count": 2,
   "id": "2ea1e2b6",
   "metadata": {},
   "outputs": [
    {
     "name": "stdout",
     "output_type": "stream",
     "text": [
      "💬 AI 回應：\n",
      "{'model': 'gemma3:1b', 'created_at': '2025-08-15T07:42:51.589842889Z', 'response': '{ \\n    \"我是\": \"Google DeepMind 的 Gemma 模型\", \\n    \"我\":\"一個大型語言模型，由 Google DeepMind 開發。\" \\n}', 'done': True, 'done_reason': 'stop', 'context': [105, 2364, 107, 130557, 95841, 240560, 236881, 106, 107, 105, 4368, 107, 236782, 236743, 107, 140, 236775, 44889, 1083, 623, 19540, 22267, 65153, 10363, 147224, 228546, 827, 236743, 107, 140, 236775, 237169, 12375, 19966, 56762, 146569, 26609, 236900, 237852, 6475, 22267, 65153, 65706, 238623, 165220, 236743, 107, 236783], 'total_duration': 22414121966, 'load_duration': 14641826307, 'prompt_eval_count': 13, 'prompt_eval_duration': 772801163, 'eval_count': 39, 'eval_duration': 6515499088}\n",
      "{ \n",
      "    \"我是\": \"Google DeepMind 的 Gemma 模型\", \n",
      "    \"我\":\"一個大型語言模型，由 Google DeepMind 開發。\" \n",
      "}\n"
     ]
    }
   ],
   "source": [
    "import requests\n",
    "\n",
    "def chat_with_ollama(prompt: str):\n",
    "    url = \"http://localhost:11434/api/generate\"\n",
    "    payload = {\n",
    "        \"model\": \"gemma3:1b\",\n",
    "        \"prompt\": prompt,\n",
    "        \"stream\": False,\n",
    "        \"options\": { #參考說明1\n",
    "            \"temperature\": 0.7,\n",
    "            \"top_p\": 0.9,\n",
    "            \"top_k\": 50,\n",
    "        },\n",
    "        \"max_tokens\": 100,\n",
    "        \"format\": \"json\",\n",
    "    }\n",
    "\n",
    "    response = requests.post(url, json=payload)\n",
    "    result = response.json()\n",
    "    print(\"💬 AI 回應：\")\n",
    "    # Print the whole result for debugging\n",
    "    print(result)\n",
    "    # Try to print the 'response' key if it exists, otherwise print possible keys\n",
    "    if \"response\" in result:\n",
    "        print(result[\"response\"])\n",
    "    elif \"message\" in result:\n",
    "        print(result[\"message\"])\n",
    "    elif \"content\" in result:\n",
    "        print(result[\"content\"])\n",
    "    else:\n",
    "        print(\"No expected key found in response. Available keys:\", result.keys())\n",
    "\n",
    "#範例輸入\n",
    "chat_with_ollama(\"請問你是誰?\")"
   ]
  },
  {
   "cell_type": "code",
   "execution_count": null,
   "id": "4b2350c9",
   "metadata": {},
   "outputs": [],
   "source": []
  },
  {
   "cell_type": "code",
   "execution_count": 38,
   "id": "1abee232",
   "metadata": {},
   "outputs": [
    {
     "name": "stdout",
     "output_type": "stream",
     "text": [
      "成功\n"
     ]
    },
    {
     "ename": "NameError",
     "evalue": "name 'diplay' is not defined",
     "output_type": "error",
     "traceback": [
      "\u001b[31m---------------------------------------------------------------------------\u001b[39m",
      "\u001b[31mNameError\u001b[39m                                 Traceback (most recent call last)",
      "\u001b[36mCell\u001b[39m\u001b[36m \u001b[39m\u001b[32mIn[38]\u001b[39m\u001b[32m, line 17\u001b[39m\n\u001b[32m     15\u001b[39m     result = response.json()\n\u001b[32m     16\u001b[39m     \u001b[38;5;66;03m#print(result['response'])\u001b[39;00m\n\u001b[32m---> \u001b[39m\u001b[32m17\u001b[39m     \u001b[43mdiplay\u001b[49m.Markdown(result[\u001b[33m'\u001b[39m\u001b[33mresponse\u001b[39m\u001b[33m'\u001b[39m])\n\u001b[32m     18\u001b[39m \u001b[38;5;28;01melse\u001b[39;00m:\n\u001b[32m     19\u001b[39m     \u001b[38;5;28mprint\u001b[39m(\u001b[33m'\u001b[39m\u001b[33m失敗\u001b[39m\u001b[33m'\u001b[39m)\n",
      "\u001b[31mNameError\u001b[39m: name 'diplay' is not defined"
     ]
    }
   ],
   "source": [
    "import requests\n",
    "from IPython.display import Markdown, display\n",
    "\n",
    "url = \"http://localhost:11434/api/generate\"\n",
    "\n",
    "response = requests.post(url, json={\n",
    "    \"model\":\"gemma3:1b\"\n",
    "    ,\"prompt\":\"天空為甚麼是藍的?\"\n",
    "    ,\"stream\":False,\n",
    "})\n",
    "response.status_code\n",
    "if response.status_code == 200:\n",
    "    print('成功')\n",
    "    #print(response.json())\n",
    "    result = response.json()\n",
    "    #print(result['response'])\n",
    "    diplay.Markdown(result['response'])\n",
    "else:\n",
    "    print('失敗')\n",
    "    print('原因',response.status_code)"
   ]
  },
  {
   "cell_type": "code",
   "execution_count": null,
   "id": "384de494",
   "metadata": {},
   "outputs": [
    {
     "name": "stdout",
     "output_type": "stream",
     "text": [
      "tw\n",
      "jp\n",
      "hk\n",
      "taiwan\n",
      "japan\n",
      "Hong KONG\n",
      "('tw', 'taiwan')\n",
      "('jp', 'japan')\n",
      "('hk', 'Hong KONG')\n",
      "taiwan tw\n",
      "japan jp\n",
      "Hong KONG hk\n"
     ]
    }
   ],
   "source": [
    "country = {\"tw\": \"taiwan\",\"jp\":\"japan\",\"hk\":\"Hong KONG\"}\n",
    "\n",
    "country[\"tw\"]\n",
    "country[\"jp\"]\n",
    "country[\"hk\"]\n",
    "\n",
    "country.keys()\n",
    "\n",
    "for item in country.keys():\n",
    "    print(item)\n",
    "\n",
    "for values in country.values():\n",
    "    print(values)\n",
    "\n",
    "for item in country.items():\n",
    "    print(item)\n",
    "\n",
    "for (code,item) in country.items():\n",
    "    print(item,code)\n",
    "\n",
    "\n",
    "\n",
    "# for i in country:\n",
    "#     print(i)"
   ]
  }
 ],
 "metadata": {
  "kernelspec": {
   "display_name": "line_bot",
   "language": "python",
   "name": "python3"
  },
  "language_info": {
   "codemirror_mode": {
    "name": "ipython",
    "version": 3
   },
   "file_extension": ".py",
   "mimetype": "text/x-python",
   "name": "python",
   "nbconvert_exporter": "python",
   "pygments_lexer": "ipython3",
   "version": "3.12.11"
  }
 },
 "nbformat": 4,
 "nbformat_minor": 5
}
