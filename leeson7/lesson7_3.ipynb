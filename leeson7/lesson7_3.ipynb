{
 "cells": [
  {
   "cell_type": "code",
   "execution_count": 1,
   "id": "9daaf961",
   "metadata": {},
   "outputs": [
    {
     "data": {
      "text/markdown": [
       "這是一隻**棕熊** (Brown Bear)。在北美，牠們通常被稱為**灰熊** (Grizzly Bear)。\n",
       "\n",
       "以下是關於棕熊的一些資訊：\n",
       "\n",
       "1.  **學名：** *Ursus arctos*。\n",
       "\n",
       "2.  **分佈：** 棕熊是世界上分佈最廣的熊科動物之一，廣泛分佈於北美洲（如阿拉斯加、加拿大和美國的幾個州）、歐洲和亞洲。\n",
       "\n",
       "3.  **體型：**\n",
       "    *   牠們是大型陸地食肉動物（儘管牠們是雜食性）。\n",
       "    *   成年雄性體重可達200-600公斤（甚至更多，如科迪亞克棕熊，可達數百公斤），站立時肩高約1-1.5米，後腿站立可達2-3米。雌性通常比雄性小。\n",
       "\n",
       "4.  **外觀特徵：**\n",
       "    *   **毛色：** 從淺棕色到深棕色，甚至接近黑色，毛尖常有銀白色，這也是「灰熊」名稱的由來（Grizzly，意為「灰白色的」）。\n",
       "    *   **肩部駝峰：** 肩部有一個明顯的肌肉隆起，這是牠們強大前肢力量的來源，用於挖掘。\n",
       "    *   **爪子：** 爪子長而彎曲，不能完全收縮，非常適合挖掘植物根莖、捕魚和撕裂食物。\n",
       "    *   **面部：** 臉型較寬，鼻子較長。\n",
       "\n",
       "5.  **食性：** 棕熊是**雜食性動物**。牠們的飲食非常多樣，包括：\n",
       "    *   植物：漿果、堅果、根莖、草、蘑菇。\n",
       "    *   動物：昆蟲（如螞蟻、蜂蛹）、魚類（特別是鮭魚）、小型哺乳動物，有時也會捕食鹿或麋鹿的幼崽。\n",
       "    *   腐肉：牠們也是重要的清道夫。\n",
       "\n",
       "6.  **棲息地：** 牠們能夠適應多種環境，包括森林、山區、苔原、沿海地區和高山草甸。\n",
       "\n",
       "7.  **冬眠：** 在寒冷的冬季，棕熊會進入冬眠狀態。牠們會在秋季大量進食以儲存脂肪，然後在洞穴或巢穴中度過冬天，此時心率和新陳代謝都會降低。\n",
       "\n",
       "8.  **社會結構：** 棕熊大多是獨居動物，除了帶幼崽的母熊或在食物豐富的地方（如鮭魚迴游期）會有聚集。\n",
       "\n",
       "9.  **與人類的關係：** 棕熊通常會避免與人類接觸，但如果牠們感到受到威脅（特別是母熊帶幼崽時）、被驚嚇或被食物吸引，牠們可能會變得具有攻擊性。在棕熊棲息地活動時，務必遵守安全指南。\n",
       "\n",
       "10. **保育現況：** 儘管在全球範圍內，棕熊的總體數量較為穩定，但在某些地區（特別是美國本土的低48州），牠們仍然屬於受威脅物種，需要嚴格的保護措施。\n",
       "\n",
       "棕熊是生態系統中重要的頂級捕食者，也是野性荒野的象徵。"
      ],
      "text/plain": [
       "<IPython.core.display.Markdown object>"
      ]
     },
     "metadata": {},
     "output_type": "display_data"
    }
   ],
   "source": [
    "import PIL.Image\n",
    "from google import genai\n",
    "from IPython.display import display, Markdown\n",
    "\n",
    "client = genai.Client()\n",
    "image = PIL.Image.open('bear.jpg')\n",
    "response = client.models.generate_content(\n",
    "    model=\"gemini-2.5-flash\",\n",
    "    contents=[image, \"請告訴我這是什麼動物,還有關於它的一些資訊\"]\n",
    ")\n",
    "\n",
    "display(Markdown(response.text))"
   ]
  }
 ],
 "metadata": {
  "kernelspec": {
   "display_name": "line_bot",
   "language": "python",
   "name": "python3"
  },
  "language_info": {
   "codemirror_mode": {
    "name": "ipython",
    "version": 3
   },
   "file_extension": ".py",
   "mimetype": "text/x-python",
   "name": "python",
   "nbconvert_exporter": "python",
   "pygments_lexer": "ipython3",
   "version": "3.12.11"
  }
 },
 "nbformat": 4,
 "nbformat_minor": 5
}
