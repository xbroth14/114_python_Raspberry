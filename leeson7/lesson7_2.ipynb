{
 "cells": [
  {
   "cell_type": "code",
   "execution_count": null,
   "id": "d7df69d9",
   "metadata": {},
   "outputs": [
    {
     "name": "stdout",
     "output_type": "stream",
     "text": [
      "AI 處理資訊、識別模式並根據數據做出決策或預測。\n",
      "AI processes information, identifies patterns, and makes decisions or predictions based on data.\n",
      "\n",
      "它透過使用大量的數據進行訓練，讓演算法從中學習。\n",
      "It learns by being trained on vast amounts of data, from which algorithms extract knowledge.\n",
      "\n",
      "這些演算法會分析數據中的關聯性，並建立模型來預測結果或執行特定任務。\n",
      "These algorithms analyze relationships within the data and build models to predict outcomes or perform specific tasks.\n",
      "\n",
      "最常見的 AI 類型之一是機器學習，特別是深度學習。\n",
      "One of the most common types of AI is Machine Learning, especially Deep Learning.\n",
      "\n",
      "深度學習使用多層人工神經網絡來處理複雜的資訊，類似於人腦的工作方式。\n",
      "Deep Learning uses multi-layered artificial neural networks to process complex information, similar to how the human brain works.\n",
      "\n",
      "透過不斷的練習和調整，AI 系統會越來越精確、效能越來越好。\n",
      "Through continuous practice and adjustment, AI systems become more and more accurate and perform better.\n",
      "\n",
      "簡而言之，AI 透過從數據中學習，來執行或增強通常需要人類智慧的任務。\n",
      "In short, AI performs or enhances tasks that typically require human intelligence by learning from data.\n"
     ]
    }
   ],
   "source": [
    "from google import genai\n",
    "#import os\n",
    "from google.genai import types\n",
    "\n",
    "\n",
    "#client = genai.Client(api_key=os.environ['GEMINI_API_KEY'])\n",
    "client = genai.Client()   #使用環境變數登入 GEMINI_API_KEY\n",
    "\n",
    "system_instruction = \"\"\"\n",
    "你是個友善且樂於助人的助理。\n",
    "回答時,請回答繁體中文和英文,\n",
    "一行繁體中文,一行英文翻譯\n",
    "\"\"\"\n",
    "\n",
    "\n",
    "\n",
    "thinking = types.ThinkingConfig(thinking_budget=100)\n",
    "\n",
    "config = types.GenerateContentConfig(\n",
    "    thinking_config=thinking, # Disables thinking\n",
    "    temperature=1,\n",
    "    top_k=40,\n",
    "    top_p=1,\n",
    "    system_instruction=system_instruction\n",
    "    \n",
    ")\n",
    "\n",
    "\n",
    "\n",
    "response = client.models.generate_content(\n",
    "    model=\"gemini-2.5-flash\",\n",
    "    contents=[\"AI是如何工作的?\"],\n",
    "    config=config\n",
    ")\n",
    "print(response.text)"
   ]
  },
  {
   "cell_type": "code",
   "execution_count": null,
   "id": "0b6268e0",
   "metadata": {},
   "outputs": [
    {
     "name": "stdout",
     "output_type": "stream",
     "text": [
      "<class 'generator'>\n"
     ]
    }
   ],
   "source": [
    "from google import genai\n",
    "\n",
    "client = genai.Client()\n",
    "response = client.models.generate_content_stream(\n",
    "    model=\"gemini-2.5-flash\",\n",
    "    contents=[\"AI是如何工作的(請使用繁體中文回答)?\"],\n",
    ")\n",
    "# print(type(response))\n",
    "for chunk in response:\n",
    "    print(chunk.text)"
   ]
  },
  {
   "cell_type": "code",
   "execution_count": 6,
   "id": "78791fab",
   "metadata": {},
   "outputs": [
    {
     "name": "stdout",
     "output_type": "stream",
     "text": [
      "5\n",
      "10\n",
      "15\n",
      "18\n"
     ]
    }
   ],
   "source": [
    "for item in [5,10,15,18]:\n",
    "    print(item)"
   ]
  }
 ],
 "metadata": {
  "kernelspec": {
   "display_name": "line_bot",
   "language": "python",
   "name": "python3"
  },
  "language_info": {
   "codemirror_mode": {
    "name": "ipython",
    "version": 3
   },
   "file_extension": ".py",
   "mimetype": "text/x-python",
   "name": "python",
   "nbconvert_exporter": "python",
   "pygments_lexer": "ipython3",
   "version": "3.12.11"
  }
 },
 "nbformat": 4,
 "nbformat_minor": 5
}
